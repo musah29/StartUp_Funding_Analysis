{
 "cells": [
  {
   "cell_type": "markdown",
   "id": "847dde3c",
   "metadata": {},
   "source": [
    "# INDIAN START UP ECOSYSTEM"
   ]
  },
  {
   "attachments": {},
   "cell_type": "markdown",
   "id": "d9fbf66f",
   "metadata": {},
   "source": [
    "DESCRIPTIPN\n",
    "\n",
    "In this project,we analyze and visualize industry data and identify trends and opportunities in the Indian startup market. The analysis will cover funding trends, the geographic distribution of the start-ups,funding sources, and the industrial sector in which the start-ups operate. The insights gained from this project will help venture capitalists stay ahead of the curve and identify promising investment opportunities."
   ]
  },
  {
   "attachments": {},
   "cell_type": "markdown",
   "id": "7c3c23b3",
   "metadata": {},
   "source": [
    "<b>QUESTIONS<b>\n",
    "\n",
    "1. Which sector or industry received  the least and most funding in each year(2018-2021).\n",
    "2. Which investor provided the least and highest funding in each year(2018-2021).\n",
    "3. Which Company received least and more Funds in each year (2018-2021).\n",
    "4. The location received the highest and least funding in the years under review.\n",
    "5. Does the Locaction of the startup impact the investments."
   ]
  },
  {
   "cell_type": "code",
   "execution_count": null,
   "id": "2dc946ca",
   "metadata": {},
   "outputs": [],
   "source": []
  },
  {
   "cell_type": "code",
   "execution_count": 390,
   "id": "3561ee86",
   "metadata": {},
   "outputs": [
    {
     "name": "stdout",
     "output_type": "stream",
     "text": [
      "Requirement already satisfied: pyodbc in c:\\users\\user\\appdata\\local\\programs\\python\\python311\\lib\\site-packages (5.0.1)Note: you may need to restart the kernel to use updated packages.\n",
      "\n"
     ]
    },
    {
     "name": "stderr",
     "output_type": "stream",
     "text": [
      "\n",
      "[notice] A new release of pip is available: 23.0.1 -> 23.3.1\n",
      "[notice] To update, run: python.exe -m pip install --upgrade pip\n"
     ]
    },
    {
     "name": "stdout",
     "output_type": "stream",
     "text": [
      "Requirement already satisfied: python-dotenv in c:\\users\\user\\appdata\\local\\programs\\python\\python311\\lib\\site-packages (1.0.0)Note: you may need to restart the kernel to use updated packages.\n",
      "\n"
     ]
    },
    {
     "name": "stderr",
     "output_type": "stream",
     "text": [
      "\n",
      "[notice] A new release of pip is available: 23.0.1 -> 23.3.1\n",
      "[notice] To update, run: python.exe -m pip install --upgrade pip\n"
     ]
    },
    {
     "name": "stdout",
     "output_type": "stream",
     "text": [
      "Requirement already satisfied: summarytools in c:\\users\\user\\appdata\\local\\programs\\python\\python311\\lib\\site-packages (0.2.3)Note: you may need to restart the kernel to use updated packages.\n",
      "\n",
      "Requirement already satisfied: pandas>=1.4.0 in c:\\users\\user\\appdata\\local\\programs\\python\\python311\\lib\\site-packages (from summarytools) (1.5.3)\n",
      "Requirement already satisfied: ipython>=7.20.0 in c:\\users\\user\\appdata\\roaming\\python\\python311\\site-packages (from summarytools) (8.17.2)\n",
      "Requirement already satisfied: numpy>=1.18.5 in c:\\users\\user\\appdata\\local\\programs\\python\\python311\\lib\\site-packages (from summarytools) (1.24.2)\n",
      "Requirement already satisfied: matplotlib>=3.3.0 in c:\\users\\user\\appdata\\local\\programs\\python\\python311\\lib\\site-packages (from summarytools) (3.7.1)\n",
      "Requirement already satisfied: decorator in c:\\users\\user\\appdata\\roaming\\python\\python311\\site-packages (from ipython>=7.20.0->summarytools) (5.1.1)\n",
      "Requirement already satisfied: jedi>=0.16 in c:\\users\\user\\appdata\\roaming\\python\\python311\\site-packages (from ipython>=7.20.0->summarytools) (0.19.1)\n",
      "Requirement already satisfied: matplotlib-inline in c:\\users\\user\\appdata\\roaming\\python\\python311\\site-packages (from ipython>=7.20.0->summarytools) (0.1.6)\n",
      "Requirement already satisfied: prompt-toolkit!=3.0.37,<3.1.0,>=3.0.30 in c:\\users\\user\\appdata\\roaming\\python\\python311\\site-packages (from ipython>=7.20.0->summarytools) (3.0.40)\n",
      "Requirement already satisfied: pygments>=2.4.0 in c:\\users\\user\\appdata\\roaming\\python\\python311\\site-packages (from ipython>=7.20.0->summarytools) (2.16.1)\n",
      "Requirement already satisfied: stack-data in c:\\users\\user\\appdata\\roaming\\python\\python311\\site-packages (from ipython>=7.20.0->summarytools) (0.6.3)\n",
      "Requirement already satisfied: traitlets>=5 in c:\\users\\user\\appdata\\roaming\\python\\python311\\site-packages (from ipython>=7.20.0->summarytools) (5.13.0)\n",
      "Requirement already satisfied: colorama in c:\\users\\user\\appdata\\roaming\\python\\python311\\site-packages (from ipython>=7.20.0->summarytools) (0.4.6)\n",
      "Requirement already satisfied: contourpy>=1.0.1 in c:\\users\\user\\appdata\\local\\programs\\python\\python311\\lib\\site-packages (from matplotlib>=3.3.0->summarytools) (1.0.7)\n",
      "Requirement already satisfied: cycler>=0.10 in c:\\users\\user\\appdata\\local\\programs\\python\\python311\\lib\\site-packages (from matplotlib>=3.3.0->summarytools) (0.11.0)\n",
      "Requirement already satisfied: fonttools>=4.22.0 in c:\\users\\user\\appdata\\local\\programs\\python\\python311\\lib\\site-packages (from matplotlib>=3.3.0->summarytools) (4.39.3)\n",
      "Requirement already satisfied: kiwisolver>=1.0.1 in c:\\users\\user\\appdata\\local\\programs\\python\\python311\\lib\\site-packages (from matplotlib>=3.3.0->summarytools) (1.4.4)\n",
      "Requirement already satisfied: packaging>=20.0 in c:\\users\\user\\appdata\\local\\programs\\python\\python311\\lib\\site-packages (from matplotlib>=3.3.0->summarytools) (23.0)\n",
      "Requirement already satisfied: pillow>=6.2.0 in c:\\users\\user\\appdata\\local\\programs\\python\\python311\\lib\\site-packages (from matplotlib>=3.3.0->summarytools) (9.5.0)\n",
      "Requirement already satisfied: pyparsing>=2.3.1 in c:\\users\\user\\appdata\\local\\programs\\python\\python311\\lib\\site-packages (from matplotlib>=3.3.0->summarytools) (3.0.9)\n",
      "Requirement already satisfied: python-dateutil>=2.7 in c:\\users\\user\\appdata\\local\\programs\\python\\python311\\lib\\site-packages (from matplotlib>=3.3.0->summarytools) (2.8.2)\n",
      "Requirement already satisfied: pytz>=2020.1 in c:\\users\\user\\appdata\\local\\programs\\python\\python311\\lib\\site-packages (from pandas>=1.4.0->summarytools) (2023.3)\n",
      "Requirement already satisfied: parso<0.9.0,>=0.8.3 in c:\\users\\user\\appdata\\roaming\\python\\python311\\site-packages (from jedi>=0.16->ipython>=7.20.0->summarytools) (0.8.3)\n",
      "Requirement already satisfied: wcwidth in c:\\users\\user\\appdata\\roaming\\python\\python311\\site-packages (from prompt-toolkit!=3.0.37,<3.1.0,>=3.0.30->ipython>=7.20.0->summarytools) (0.2.9)\n",
      "Requirement already satisfied: six>=1.5 in c:\\users\\user\\appdata\\local\\programs\\python\\python311\\lib\\site-packages (from python-dateutil>=2.7->matplotlib>=3.3.0->summarytools) (1.16.0)\n",
      "Requirement already satisfied: executing>=1.2.0 in c:\\users\\user\\appdata\\roaming\\python\\python311\\site-packages (from stack-data->ipython>=7.20.0->summarytools) (2.0.1)\n",
      "Requirement already satisfied: asttokens>=2.1.0 in c:\\users\\user\\appdata\\roaming\\python\\python311\\site-packages (from stack-data->ipython>=7.20.0->summarytools) (2.4.1)\n",
      "Requirement already satisfied: pure-eval in c:\\users\\user\\appdata\\roaming\\python\\python311\\site-packages (from stack-data->ipython>=7.20.0->summarytools) (0.2.2)\n"
     ]
    },
    {
     "name": "stderr",
     "output_type": "stream",
     "text": [
      "\n",
      "[notice] A new release of pip is available: 23.0.1 -> 23.3.1\n",
      "[notice] To update, run: python.exe -m pip install --upgrade pip\n"
     ]
    },
    {
     "name": "stdout",
     "output_type": "stream",
     "text": [
      "Requirement already satisfied: scipy in c:\\users\\user\\appdata\\local\\programs\\python\\python311\\lib\\site-packages (1.11.3)Note: you may need to restart the kernel to use updated packages.\n"
     ]
    },
    {
     "name": "stderr",
     "output_type": "stream",
     "text": [
      "\n",
      "[notice] A new release of pip is available: 23.0.1 -> 23.3.1\n",
      "[notice] To update, run: python.exe -m pip install --upgrade pip\n"
     ]
    },
    {
     "name": "stdout",
     "output_type": "stream",
     "text": [
      "\n",
      "Requirement already satisfied: numpy<1.28.0,>=1.21.6 in c:\\users\\user\\appdata\\local\\programs\\python\\python311\\lib\\site-packages (from scipy) (1.24.2)\n"
     ]
    }
   ],
   "source": [
    "%pip install pyodbc  \n",
    "%pip install python-dotenv \n",
    "%pip install summarytools\n",
    "%pip install scipy\n",
    "\n"
   ]
  },
  {
   "cell_type": "code",
   "execution_count": 391,
   "id": "1fa43a27",
   "metadata": {},
   "outputs": [],
   "source": [
    "# importing the necessary libraries\n",
    " \n",
    "import pyodbc # Database Connectivity with  Open Database Connectivity (pyodbc)\n",
    " \n",
    "from dotenv import dotenv_values # dotenv library to load environment variables\n",
    "# pandas for data manipulation and analysis\n",
    "import pandas as pd\n",
    "import numpy as np\n",
    "import warnings\n",
    " \n",
    "warnings.filterwarnings('ignore')\n",
    "import seaborn as sns\n",
    "import matplotlib.pyplot as plt\n",
    "from summarytools import dfSummary\n",
    "from scipy.stats import f_oneway\n",
    "# show floats to only 4 deicmal places\n",
    "pd.set_option('display.float_format', lambda x: '%0.4f' % x)"
   ]
  },
  {
   "cell_type": "code",
   "execution_count": 392,
   "id": "2e69d069",
   "metadata": {},
   "outputs": [],
   "source": [
    "# Load environment variables from .env file into a dictionary\n",
    "environment_variables = dotenv_values('.env')\n",
    "\n",
    "\n",
    "# Get the values for the credentials you set in the '.env' file\n",
    "server = environment_variables.get(\"SERVER\")\n",
    "database = environment_variables.get(\"DATABASE\")\n",
    "username = environment_variables.get(\"UID\")\n",
    "password = environment_variables.get(\"PWD\")\n",
    "\n",
    "\n",
    "connection_string = f\"DRIVER={{SQL Server}};SERVER={server};DATABASE={database};UID={username};PWD={password};MARS_Connection=yes;MinProtocolVersion=TLSv1.2;\"\n"
   ]
  },
  {
   "cell_type": "code",
   "execution_count": 393,
   "id": "85ea4945",
   "metadata": {},
   "outputs": [],
   "source": [
    "# Use the connect method of the pyodbc library and pass in the connection string.\n",
    "# This will connect to the server and might take a few seconds to be complete. \n",
    "# Check your internet connection if it takes more time than necessary\n",
    "\n",
    "connection = pyodbc.connect(connection_string)"
   ]
  },
  {
   "cell_type": "code",
   "execution_count": 394,
   "id": "330243dc",
   "metadata": {},
   "outputs": [],
   "source": [
    "# Load the dataset SQL query\n",
    "query1 = \"Select * from dbo.LP1_startup_funding2020\"\n",
    "query2 = \"Select * from dbo.LP1_startup_funding2021\""
   ]
  },
  {
   "attachments": {},
   "cell_type": "markdown",
   "id": "b6e11e9b",
   "metadata": {},
   "source": [
    "<b>LOADING THE DATASETS<b>"
   ]
  },
  {
   "cell_type": "code",
   "execution_count": 395,
   "id": "e7863626",
   "metadata": {},
   "outputs": [],
   "source": [
    "# Read data from the  on dataset\n",
    "data_2018 = pd.read_csv('dataset\\startup_funding2018.csv')\n",
    "data_2019 = pd.read_csv('dataset\\startup_funding2019.csv')\n",
    "data_2020 = pd.read_sql(query1, connection)\n",
    "data_2021 = pd.read_sql(query2, connection)\n",
    " "
   ]
  },
  {
   "attachments": {},
   "cell_type": "markdown",
   "id": "78a3db8d",
   "metadata": {},
   "source": [
    "EXPLORATORY DATA ANALYSIS-EDA\n",
    "\n",
    "-Here we inspect the datasets in depth year by year and column by column. This is to clean it and make it ready for analysis.\n"
   ]
  },
  {
   "cell_type": "code",
   "execution_count": 396,
   "id": "80ca9d51",
   "metadata": {},
   "outputs": [
    {
     "data": {
      "text/html": [
       "<div>\n",
       "<style scoped>\n",
       "    .dataframe tbody tr th:only-of-type {\n",
       "        vertical-align: middle;\n",
       "    }\n",
       "\n",
       "    .dataframe tbody tr th {\n",
       "        vertical-align: top;\n",
       "    }\n",
       "\n",
       "    .dataframe thead th {\n",
       "        text-align: right;\n",
       "    }\n",
       "</style>\n",
       "<table border=\"1\" class=\"dataframe\">\n",
       "  <thead>\n",
       "    <tr style=\"text-align: right;\">\n",
       "      <th></th>\n",
       "      <th>Company Name</th>\n",
       "      <th>Industry</th>\n",
       "      <th>Round/Series</th>\n",
       "      <th>Amount</th>\n",
       "      <th>Location</th>\n",
       "      <th>About Company</th>\n",
       "    </tr>\n",
       "  </thead>\n",
       "  <tbody>\n",
       "    <tr>\n",
       "      <th>0</th>\n",
       "      <td>TheCollegeFever</td>\n",
       "      <td>Brand Marketing, Event Promotion, Marketing, S...</td>\n",
       "      <td>Seed</td>\n",
       "      <td>250000</td>\n",
       "      <td>Bangalore, Karnataka, India</td>\n",
       "      <td>TheCollegeFever is a hub for fun, fiesta and f...</td>\n",
       "    </tr>\n",
       "    <tr>\n",
       "      <th>1</th>\n",
       "      <td>Happy Cow Dairy</td>\n",
       "      <td>Agriculture, Farming</td>\n",
       "      <td>Seed</td>\n",
       "      <td>₹40,000,000</td>\n",
       "      <td>Mumbai, Maharashtra, India</td>\n",
       "      <td>A startup which aggregates milk from dairy far...</td>\n",
       "    </tr>\n",
       "    <tr>\n",
       "      <th>2</th>\n",
       "      <td>MyLoanCare</td>\n",
       "      <td>Credit, Financial Services, Lending, Marketplace</td>\n",
       "      <td>Series A</td>\n",
       "      <td>₹65,000,000</td>\n",
       "      <td>Gurgaon, Haryana, India</td>\n",
       "      <td>Leading Online Loans Marketplace in India</td>\n",
       "    </tr>\n",
       "    <tr>\n",
       "      <th>3</th>\n",
       "      <td>PayMe India</td>\n",
       "      <td>Financial Services, FinTech</td>\n",
       "      <td>Angel</td>\n",
       "      <td>2000000</td>\n",
       "      <td>Noida, Uttar Pradesh, India</td>\n",
       "      <td>PayMe India is an innovative FinTech organizat...</td>\n",
       "    </tr>\n",
       "    <tr>\n",
       "      <th>4</th>\n",
       "      <td>Eunimart</td>\n",
       "      <td>E-Commerce Platforms, Retail, SaaS</td>\n",
       "      <td>Seed</td>\n",
       "      <td>—</td>\n",
       "      <td>Hyderabad, Andhra Pradesh, India</td>\n",
       "      <td>Eunimart is a one stop solution for merchants ...</td>\n",
       "    </tr>\n",
       "  </tbody>\n",
       "</table>\n",
       "</div>"
      ],
      "text/plain": [
       "      Company Name                                           Industry  \\\n",
       "0  TheCollegeFever  Brand Marketing, Event Promotion, Marketing, S...   \n",
       "1  Happy Cow Dairy                               Agriculture, Farming   \n",
       "2       MyLoanCare   Credit, Financial Services, Lending, Marketplace   \n",
       "3      PayMe India                        Financial Services, FinTech   \n",
       "4         Eunimart                 E-Commerce Platforms, Retail, SaaS   \n",
       "\n",
       "  Round/Series       Amount                          Location  \\\n",
       "0         Seed       250000       Bangalore, Karnataka, India   \n",
       "1         Seed  ₹40,000,000        Mumbai, Maharashtra, India   \n",
       "2     Series A  ₹65,000,000           Gurgaon, Haryana, India   \n",
       "3        Angel      2000000       Noida, Uttar Pradesh, India   \n",
       "4         Seed            —  Hyderabad, Andhra Pradesh, India   \n",
       "\n",
       "                                       About Company  \n",
       "0  TheCollegeFever is a hub for fun, fiesta and f...  \n",
       "1  A startup which aggregates milk from dairy far...  \n",
       "2          Leading Online Loans Marketplace in India  \n",
       "3  PayMe India is an innovative FinTech organizat...  \n",
       "4  Eunimart is a one stop solution for merchants ...  "
      ]
     },
     "execution_count": 396,
     "metadata": {},
     "output_type": "execute_result"
    }
   ],
   "source": [
    "data_2018.head()"
   ]
  },
  {
   "attachments": {},
   "cell_type": "markdown",
   "id": "bbd0360b",
   "metadata": {},
   "source": [
    "<h>SPECIFIC ISSUES WITH 2018 DATASET<h>\n",
    "\n",
    "\n",
    "-The location column lists the city, state and country name. This would have to be stripped to only the city name.\n",
    "\n",
    "-2018 dataset does not have a column for investors.\n",
    "\n",
    "-Names of some of the columns has to be changed to be consistent with those of 2019,2020 and 2021.\n",
    "\n",
    "-Create a unique column for the year this is to make subsequent analysis easier.\n",
    "\n",
    "-Drop the column 'About Company' it has no bearing on the subsequent analysis.\n",
    "\n",
    "-Inspect each column separately to identify its own perculiar issues.\n",
    "\n",
    "-In the amount column a couple of entries are in Indian Rupees. These have to be converted to US Dollars using the appriopriate exchange rate for the period under review."
   ]
  },
  {
   "cell_type": "code",
   "execution_count": 397,
   "id": "04095ba0",
   "metadata": {},
   "outputs": [],
   "source": [
    "#Create a unique year column\n",
    "data_2018['Year']='2018'"
   ]
  },
  {
   "cell_type": "code",
   "execution_count": 398,
   "id": "c7e00192",
   "metadata": {},
   "outputs": [],
   "source": [
    "# Drop the [About Company] column\n",
    "\n",
    "del data_2018['About Company']"
   ]
  },
  {
   "cell_type": "code",
   "execution_count": 399,
   "id": "af312f6c",
   "metadata": {},
   "outputs": [
    {
     "data": {
      "text/html": [
       "<div>\n",
       "<style scoped>\n",
       "    .dataframe tbody tr th:only-of-type {\n",
       "        vertical-align: middle;\n",
       "    }\n",
       "\n",
       "    .dataframe tbody tr th {\n",
       "        vertical-align: top;\n",
       "    }\n",
       "\n",
       "    .dataframe thead th {\n",
       "        text-align: right;\n",
       "    }\n",
       "</style>\n",
       "<table border=\"1\" class=\"dataframe\">\n",
       "  <thead>\n",
       "    <tr style=\"text-align: right;\">\n",
       "      <th></th>\n",
       "      <th>Company_Brand</th>\n",
       "      <th>Sector</th>\n",
       "      <th>Stage</th>\n",
       "      <th>Amount($)</th>\n",
       "      <th>HeadQuarter</th>\n",
       "      <th>Year</th>\n",
       "    </tr>\n",
       "  </thead>\n",
       "  <tbody>\n",
       "    <tr>\n",
       "      <th>0</th>\n",
       "      <td>TheCollegeFever</td>\n",
       "      <td>Brand Marketing, Event Promotion, Marketing, S...</td>\n",
       "      <td>Seed</td>\n",
       "      <td>250000</td>\n",
       "      <td>Bangalore, Karnataka, India</td>\n",
       "      <td>2018</td>\n",
       "    </tr>\n",
       "    <tr>\n",
       "      <th>1</th>\n",
       "      <td>Happy Cow Dairy</td>\n",
       "      <td>Agriculture, Farming</td>\n",
       "      <td>Seed</td>\n",
       "      <td>₹40,000,000</td>\n",
       "      <td>Mumbai, Maharashtra, India</td>\n",
       "      <td>2018</td>\n",
       "    </tr>\n",
       "    <tr>\n",
       "      <th>2</th>\n",
       "      <td>MyLoanCare</td>\n",
       "      <td>Credit, Financial Services, Lending, Marketplace</td>\n",
       "      <td>Series A</td>\n",
       "      <td>₹65,000,000</td>\n",
       "      <td>Gurgaon, Haryana, India</td>\n",
       "      <td>2018</td>\n",
       "    </tr>\n",
       "    <tr>\n",
       "      <th>3</th>\n",
       "      <td>PayMe India</td>\n",
       "      <td>Financial Services, FinTech</td>\n",
       "      <td>Angel</td>\n",
       "      <td>2000000</td>\n",
       "      <td>Noida, Uttar Pradesh, India</td>\n",
       "      <td>2018</td>\n",
       "    </tr>\n",
       "    <tr>\n",
       "      <th>4</th>\n",
       "      <td>Eunimart</td>\n",
       "      <td>E-Commerce Platforms, Retail, SaaS</td>\n",
       "      <td>Seed</td>\n",
       "      <td>—</td>\n",
       "      <td>Hyderabad, Andhra Pradesh, India</td>\n",
       "      <td>2018</td>\n",
       "    </tr>\n",
       "  </tbody>\n",
       "</table>\n",
       "</div>"
      ],
      "text/plain": [
       "     Company_Brand                                             Sector  \\\n",
       "0  TheCollegeFever  Brand Marketing, Event Promotion, Marketing, S...   \n",
       "1  Happy Cow Dairy                               Agriculture, Farming   \n",
       "2       MyLoanCare   Credit, Financial Services, Lending, Marketplace   \n",
       "3      PayMe India                        Financial Services, FinTech   \n",
       "4         Eunimart                 E-Commerce Platforms, Retail, SaaS   \n",
       "\n",
       "      Stage    Amount($)                       HeadQuarter  Year  \n",
       "0      Seed       250000       Bangalore, Karnataka, India  2018  \n",
       "1      Seed  ₹40,000,000        Mumbai, Maharashtra, India  2018  \n",
       "2  Series A  ₹65,000,000           Gurgaon, Haryana, India  2018  \n",
       "3     Angel      2000000       Noida, Uttar Pradesh, India  2018  \n",
       "4      Seed            —  Hyderabad, Andhra Pradesh, India  2018  "
      ]
     },
     "execution_count": 399,
     "metadata": {},
     "output_type": "execute_result"
    }
   ],
   "source": [
    "# Harmonizing the 2018 dataset columns to match the other three datasets\n",
    "data_2018.columns=['Company_Brand','Sector','Stage','Amount($)','HeadQuarter','Year']\n",
    "\n",
    "data_2018.head()"
   ]
  },
  {
   "attachments": {},
   "cell_type": "markdown",
   "id": "34a271a6",
   "metadata": {},
   "source": [
    "CREATE UNIQUE SECTOR AND LOCATION (CITY) COLUMNS"
   ]
  },
  {
   "cell_type": "code",
   "execution_count": 400,
   "id": "9c5e57fc",
   "metadata": {},
   "outputs": [],
   "source": [
    "# Split the 'Sector' column\n",
    "df_18 = data_2018['Sector'].str.split(pat=',', n=1, expand=True)\n",
    "\n",
    "# Create a new column 'industry1' based on the first part of the split\n",
    "data_2018['industry1'] = df_18[0]\n",
    "\n",
    "#Drop the 'Original' Sector Column\n",
    "data_2018.drop('Sector', axis=1, inplace=True)\n",
    "\n",
    "# Rename [industry1] Column as 'New' [Sector] Column\n",
    "\n",
    "data_2018=data_2018.rename(columns={'industry1':'Sector'})\n"
   ]
  },
  {
   "cell_type": "code",
   "execution_count": 401,
   "id": "282a7c20",
   "metadata": {},
   "outputs": [],
   "source": [
    "# Create a new location column by splitting the HeadQuarter Column\n",
    "\n",
    "df_2018=data_2018['HeadQuarter'].str.split(pat=',', n=1, expand=True)\n",
    "data_2018['location']=df_2018[0]\n",
    "\n",
    "# Drop the 'Old' HeadQuarter Column\n",
    "\n",
    "data_2018.drop('HeadQuarter', axis=1, inplace=True)\n",
    "\n",
    "# Rename the 'New' Location column as HeadQuarter\n",
    "data_2018=data_2018.rename(columns={'location':'HeadQuarter'})\n"
   ]
  },
  {
   "attachments": {},
   "cell_type": "markdown",
   "id": "fa82e440",
   "metadata": {},
   "source": [
    "CHECK FOR DUPLICATES IN THE 2018 DATASET"
   ]
  },
  {
   "cell_type": "code",
   "execution_count": 402,
   "id": "33fd1aa2",
   "metadata": {},
   "outputs": [
    {
     "data": {
      "text/plain": [
       "True     476\n",
       "False     50\n",
       "dtype: int64"
      ]
     },
     "execution_count": 402,
     "metadata": {},
     "output_type": "execute_result"
    }
   ],
   "source": [
    "df_2018.duplicated().value_counts()"
   ]
  },
  {
   "attachments": {},
   "cell_type": "markdown",
   "id": "38bb0f68",
   "metadata": {},
   "source": [
    "DROP THE DUPLICATE ENTRIES WHILST MAINTAINING THE INTEGRITY OF THE ORIGINAL DATAFRAME"
   ]
  },
  {
   "cell_type": "code",
   "execution_count": 403,
   "id": "6175f3c2",
   "metadata": {},
   "outputs": [],
   "source": [
    "df_2018.drop_duplicates(keep='first', inplace=True)"
   ]
  },
  {
   "attachments": {},
   "cell_type": "markdown",
   "id": "0cb88298",
   "metadata": {},
   "source": [
    "CONFIRM THERE ARE NO DUPLICATE ENTRIES IN THE DATAFRAME df_startup"
   ]
  },
  {
   "cell_type": "code",
   "execution_count": 404,
   "id": "4c89ce73",
   "metadata": {},
   "outputs": [
    {
     "data": {
      "text/plain": [
       "False    50\n",
       "dtype: int64"
      ]
     },
     "execution_count": 404,
     "metadata": {},
     "output_type": "execute_result"
    }
   ],
   "source": [
    "df_2018.duplicated().value_counts()"
   ]
  },
  {
   "attachments": {},
   "cell_type": "markdown",
   "id": "50052531",
   "metadata": {},
   "source": [
    "CURRENCY CONVERSION (Rupees to US Dollars)"
   ]
  },
  {
   "cell_type": "code",
   "execution_count": 405,
   "id": "8828e190",
   "metadata": {},
   "outputs": [],
   "source": [
    "#2018 Exchange rate Rupee to a Dollar.\n",
    "exchange_rate = 68.14\n",
    "\n",
    "def rupee_to_dollar(amount):\n",
    "    if isinstance(amount, str) and amount.startswith('₹'):\n",
    "        amount = float(amount.replace(',', '')[1:]) * exchange_rate\n",
    "        return f'${amount:.2f}'\n",
    "    else:\n",
    "        return amount\n",
    "\n",
    "# remove rupee sign and comma, and convert to dollar equivalent\n",
    "data_2018['Amount($)'] = data_2018['Amount($)'].apply(lambda x: rupee_to_dollar(x))"
   ]
  },
  {
   "cell_type": "code",
   "execution_count": 406,
   "id": "58d9b031",
   "metadata": {},
   "outputs": [
    {
     "data": {
      "text/html": [
       "<div>\n",
       "<style scoped>\n",
       "    .dataframe tbody tr th:only-of-type {\n",
       "        vertical-align: middle;\n",
       "    }\n",
       "\n",
       "    .dataframe tbody tr th {\n",
       "        vertical-align: top;\n",
       "    }\n",
       "\n",
       "    .dataframe thead th {\n",
       "        text-align: right;\n",
       "    }\n",
       "</style>\n",
       "<table border=\"1\" class=\"dataframe\">\n",
       "  <thead>\n",
       "    <tr style=\"text-align: right;\">\n",
       "      <th></th>\n",
       "      <th>Company_Brand</th>\n",
       "      <th>Stage</th>\n",
       "      <th>Amount($)</th>\n",
       "      <th>Year</th>\n",
       "      <th>Sector</th>\n",
       "      <th>HeadQuarter</th>\n",
       "    </tr>\n",
       "  </thead>\n",
       "  <tbody>\n",
       "    <tr>\n",
       "      <th>0</th>\n",
       "      <td>TheCollegeFever</td>\n",
       "      <td>Seed</td>\n",
       "      <td>250000</td>\n",
       "      <td>2018</td>\n",
       "      <td>Brand Marketing</td>\n",
       "      <td>Bangalore</td>\n",
       "    </tr>\n",
       "    <tr>\n",
       "      <th>1</th>\n",
       "      <td>Happy Cow Dairy</td>\n",
       "      <td>Seed</td>\n",
       "      <td>$2725600000.00</td>\n",
       "      <td>2018</td>\n",
       "      <td>Agriculture</td>\n",
       "      <td>Mumbai</td>\n",
       "    </tr>\n",
       "    <tr>\n",
       "      <th>2</th>\n",
       "      <td>MyLoanCare</td>\n",
       "      <td>Series A</td>\n",
       "      <td>$4429100000.00</td>\n",
       "      <td>2018</td>\n",
       "      <td>Credit</td>\n",
       "      <td>Gurgaon</td>\n",
       "    </tr>\n",
       "    <tr>\n",
       "      <th>3</th>\n",
       "      <td>PayMe India</td>\n",
       "      <td>Angel</td>\n",
       "      <td>2000000</td>\n",
       "      <td>2018</td>\n",
       "      <td>Financial Services</td>\n",
       "      <td>Noida</td>\n",
       "    </tr>\n",
       "    <tr>\n",
       "      <th>4</th>\n",
       "      <td>Eunimart</td>\n",
       "      <td>Seed</td>\n",
       "      <td>—</td>\n",
       "      <td>2018</td>\n",
       "      <td>E-Commerce Platforms</td>\n",
       "      <td>Hyderabad</td>\n",
       "    </tr>\n",
       "  </tbody>\n",
       "</table>\n",
       "</div>"
      ],
      "text/plain": [
       "     Company_Brand     Stage       Amount($)  Year                Sector  \\\n",
       "0  TheCollegeFever      Seed          250000  2018       Brand Marketing   \n",
       "1  Happy Cow Dairy      Seed  $2725600000.00  2018           Agriculture   \n",
       "2       MyLoanCare  Series A  $4429100000.00  2018                Credit   \n",
       "3      PayMe India     Angel         2000000  2018    Financial Services   \n",
       "4         Eunimart      Seed               —  2018  E-Commerce Platforms   \n",
       "\n",
       "  HeadQuarter  \n",
       "0   Bangalore  \n",
       "1      Mumbai  \n",
       "2     Gurgaon  \n",
       "3       Noida  \n",
       "4   Hyderabad  "
      ]
     },
     "execution_count": 406,
     "metadata": {},
     "output_type": "execute_result"
    }
   ],
   "source": [
    "data_2018.head()"
   ]
  },
  {
   "attachments": {},
   "cell_type": "markdown",
   "id": "37907244",
   "metadata": {},
   "source": [
    "<h>SPECIFIC ISSUES WITH 2019 DATASET<h>"
   ]
  },
  {
   "attachments": {},
   "cell_type": "markdown",
   "id": "534f06a5",
   "metadata": {},
   "source": [
    "- The following three columns will be dropped as they have no bearing on the analysis to be performed subsequently-[Founded],[What it does],[Founders].\n",
    "\n",
    "- A unique year only column has be created to enable year on year analysis to be performed.\n",
    "\n",
    "- Change the Company/Brand column name to Company_Brand.\n"
   ]
  },
  {
   "attachments": {},
   "cell_type": "markdown",
   "id": "31af8521",
   "metadata": {},
   "source": [
    "DROP COLUMNS THAT HAVE NO BEARING ON THE OVERALL ANALYSIS"
   ]
  },
  {
   "cell_type": "code",
   "execution_count": 407,
   "id": "47234f1e",
   "metadata": {},
   "outputs": [],
   "source": [
    "# Drop the [Founded, What it does, Founders ] column\n",
    "\n",
    "columns_to_drop = ['Founded', 'What it does', 'Founders']\n",
    "data_2019.drop(columns=columns_to_drop, inplace=True)\n"
   ]
  },
  {
   "attachments": {},
   "cell_type": "markdown",
   "id": "eaa5168f",
   "metadata": {},
   "source": [
    "CREATE A UNIQUE YEAR COLUMN FOR 2019 DATASET"
   ]
  },
  {
   "cell_type": "code",
   "execution_count": 408,
   "id": "d15204d9",
   "metadata": {},
   "outputs": [],
   "source": [
    "# Create a unique year column\n",
    "data_2019['Year']='2019'"
   ]
  },
  {
   "attachments": {},
   "cell_type": "markdown",
   "id": "157ca4e2",
   "metadata": {},
   "source": [
    "HARMONISE THE NAMES OF THE COLUMNS; Company/Brand to Company_Brand"
   ]
  },
  {
   "cell_type": "code",
   "execution_count": 409,
   "id": "ef7e6258",
   "metadata": {},
   "outputs": [
    {
     "data": {
      "text/html": [
       "<div>\n",
       "<style scoped>\n",
       "    .dataframe tbody tr th:only-of-type {\n",
       "        vertical-align: middle;\n",
       "    }\n",
       "\n",
       "    .dataframe tbody tr th {\n",
       "        vertical-align: top;\n",
       "    }\n",
       "\n",
       "    .dataframe thead th {\n",
       "        text-align: right;\n",
       "    }\n",
       "</style>\n",
       "<table border=\"1\" class=\"dataframe\">\n",
       "  <thead>\n",
       "    <tr style=\"text-align: right;\">\n",
       "      <th></th>\n",
       "      <th>Company/Brand</th>\n",
       "      <th>HeadQuarter</th>\n",
       "      <th>Sector</th>\n",
       "      <th>Investor</th>\n",
       "      <th>Amount($)</th>\n",
       "      <th>Stage</th>\n",
       "      <th>Year</th>\n",
       "    </tr>\n",
       "  </thead>\n",
       "  <tbody>\n",
       "    <tr>\n",
       "      <th>0</th>\n",
       "      <td>Bombay Shaving</td>\n",
       "      <td>NaN</td>\n",
       "      <td>Ecommerce</td>\n",
       "      <td>Sixth Sense Ventures</td>\n",
       "      <td>$6,300,000</td>\n",
       "      <td>NaN</td>\n",
       "      <td>2019</td>\n",
       "    </tr>\n",
       "    <tr>\n",
       "      <th>1</th>\n",
       "      <td>Ruangguru</td>\n",
       "      <td>Mumbai</td>\n",
       "      <td>Edtech</td>\n",
       "      <td>General Atlantic</td>\n",
       "      <td>$150,000,000</td>\n",
       "      <td>Series C</td>\n",
       "      <td>2019</td>\n",
       "    </tr>\n",
       "    <tr>\n",
       "      <th>2</th>\n",
       "      <td>Eduisfun</td>\n",
       "      <td>Mumbai</td>\n",
       "      <td>Edtech</td>\n",
       "      <td>Deepak Parekh, Amitabh Bachchan, Piyush Pandey</td>\n",
       "      <td>$28,000,000</td>\n",
       "      <td>Fresh funding</td>\n",
       "      <td>2019</td>\n",
       "    </tr>\n",
       "  </tbody>\n",
       "</table>\n",
       "</div>"
      ],
      "text/plain": [
       "    Company/Brand HeadQuarter     Sector  \\\n",
       "0  Bombay Shaving         NaN  Ecommerce   \n",
       "1       Ruangguru      Mumbai     Edtech   \n",
       "2        Eduisfun      Mumbai     Edtech   \n",
       "\n",
       "                                         Investor     Amount($)  \\\n",
       "0                            Sixth Sense Ventures    $6,300,000   \n",
       "1                                General Atlantic  $150,000,000   \n",
       "2  Deepak Parekh, Amitabh Bachchan, Piyush Pandey   $28,000,000   \n",
       "\n",
       "           Stage  Year  \n",
       "0            NaN  2019  \n",
       "1       Series C  2019  \n",
       "2  Fresh funding  2019  "
      ]
     },
     "execution_count": 409,
     "metadata": {},
     "output_type": "execute_result"
    }
   ],
   "source": [
    "# Change the Company/Brand column name to Company_Brand\n",
    " \n",
    "data_2019.rename(columns={'Company/Brand': 'Company_Brand'})\n",
    "\n",
    "data_2019.head(3)\n"
   ]
  },
  {
   "attachments": {},
   "cell_type": "markdown",
   "id": "bd15599a",
   "metadata": {},
   "source": [
    "<h>SPECIFIC ISSUES WITH 2020 DATASET<h>"
   ]
  },
  {
   "attachments": {},
   "cell_type": "markdown",
   "id": "2bd8d6ab",
   "metadata": {},
   "source": [
    "- The following three columns will be dropped as they have no bearing on the analysis to be performed subsequently-[Founded],[What it does],[Founders],[column10]\n",
    "\n",
    "- A unique year only column has be created to enable year on year analysis to be performed.\n",
    "\n",
    "- A unique year only column has be created to enable year on year analysis to be performed.\n",
    "\n",
    "- Change [Amount] to [Amount($)].\n"
   ]
  },
  {
   "cell_type": "code",
   "execution_count": 410,
   "id": "9aae7f56",
   "metadata": {},
   "outputs": [],
   "source": [
    "# Drop the [Founded, What it does, Founders ] column\n",
    "\n",
    "columns_to_drop = ['Founded', 'What_it_does', 'Founders','column10']\n",
    "data_2020.drop(columns=columns_to_drop, inplace=True)"
   ]
  },
  {
   "attachments": {},
   "cell_type": "markdown",
   "id": "8f59dde7",
   "metadata": {},
   "source": [
    "CREATE A UNIQUE YEAR COLUMN FOR 2020 DATASET"
   ]
  },
  {
   "cell_type": "code",
   "execution_count": 411,
   "id": "621a8991",
   "metadata": {},
   "outputs": [],
   "source": [
    "# Create a unique year column\n",
    "\n",
    "data_2020['Year']='2020'"
   ]
  },
  {
   "cell_type": "code",
   "execution_count": 412,
   "id": "48acac12",
   "metadata": {},
   "outputs": [
    {
     "data": {
      "text/html": [
       "<div>\n",
       "<style scoped>\n",
       "    .dataframe tbody tr th:only-of-type {\n",
       "        vertical-align: middle;\n",
       "    }\n",
       "\n",
       "    .dataframe tbody tr th {\n",
       "        vertical-align: top;\n",
       "    }\n",
       "\n",
       "    .dataframe thead th {\n",
       "        text-align: right;\n",
       "    }\n",
       "</style>\n",
       "<table border=\"1\" class=\"dataframe\">\n",
       "  <thead>\n",
       "    <tr style=\"text-align: right;\">\n",
       "      <th></th>\n",
       "      <th>Company_Brand</th>\n",
       "      <th>HeadQuarter</th>\n",
       "      <th>Sector</th>\n",
       "      <th>Investor</th>\n",
       "      <th>Amount</th>\n",
       "      <th>Stage</th>\n",
       "      <th>Year</th>\n",
       "    </tr>\n",
       "  </thead>\n",
       "  <tbody>\n",
       "    <tr>\n",
       "      <th>0</th>\n",
       "      <td>Aqgromalin</td>\n",
       "      <td>Chennai</td>\n",
       "      <td>AgriTech</td>\n",
       "      <td>Angel investors</td>\n",
       "      <td>200000.0000</td>\n",
       "      <td>None</td>\n",
       "      <td>2020</td>\n",
       "    </tr>\n",
       "    <tr>\n",
       "      <th>1</th>\n",
       "      <td>Krayonnz</td>\n",
       "      <td>Bangalore</td>\n",
       "      <td>EdTech</td>\n",
       "      <td>GSF Accelerator</td>\n",
       "      <td>100000.0000</td>\n",
       "      <td>Pre-seed</td>\n",
       "      <td>2020</td>\n",
       "    </tr>\n",
       "    <tr>\n",
       "      <th>2</th>\n",
       "      <td>PadCare Labs</td>\n",
       "      <td>Pune</td>\n",
       "      <td>Hygiene management</td>\n",
       "      <td>Venture Center</td>\n",
       "      <td>NaN</td>\n",
       "      <td>Pre-seed</td>\n",
       "      <td>2020</td>\n",
       "    </tr>\n",
       "    <tr>\n",
       "      <th>3</th>\n",
       "      <td>NCOME</td>\n",
       "      <td>New Delhi</td>\n",
       "      <td>Escrow</td>\n",
       "      <td>Venture Catalysts, PointOne Capital</td>\n",
       "      <td>400000.0000</td>\n",
       "      <td>None</td>\n",
       "      <td>2020</td>\n",
       "    </tr>\n",
       "    <tr>\n",
       "      <th>4</th>\n",
       "      <td>Gramophone</td>\n",
       "      <td>Indore</td>\n",
       "      <td>AgriTech</td>\n",
       "      <td>Siana Capital Management, Info Edge</td>\n",
       "      <td>340000.0000</td>\n",
       "      <td>None</td>\n",
       "      <td>2020</td>\n",
       "    </tr>\n",
       "  </tbody>\n",
       "</table>\n",
       "</div>"
      ],
      "text/plain": [
       "  Company_Brand HeadQuarter              Sector  \\\n",
       "0    Aqgromalin     Chennai            AgriTech   \n",
       "1      Krayonnz   Bangalore              EdTech   \n",
       "2  PadCare Labs        Pune  Hygiene management   \n",
       "3         NCOME   New Delhi              Escrow   \n",
       "4    Gramophone      Indore            AgriTech   \n",
       "\n",
       "                              Investor      Amount     Stage  Year  \n",
       "0                      Angel investors 200000.0000      None  2020  \n",
       "1                      GSF Accelerator 100000.0000  Pre-seed  2020  \n",
       "2                       Venture Center         NaN  Pre-seed  2020  \n",
       "3  Venture Catalysts, PointOne Capital 400000.0000      None  2020  \n",
       "4  Siana Capital Management, Info Edge 340000.0000      None  2020  "
      ]
     },
     "execution_count": 412,
     "metadata": {},
     "output_type": "execute_result"
    }
   ],
   "source": [
    "data_2020.head()"
   ]
  },
  {
   "attachments": {},
   "cell_type": "markdown",
   "id": "f8d6a00b",
   "metadata": {},
   "source": [
    "<h>SPECIFIC ISSUES WITH 2020 DATASET<h>"
   ]
  },
  {
   "attachments": {},
   "cell_type": "markdown",
   "id": "496a7940",
   "metadata": {},
   "source": [
    "- The following three columns will be dropped as they have no bearing on the analysis to be performed subsequently-[Founded],[What_it_does],[Founders].\n",
    "\n",
    "- A unique year only column has be created to enable year on year analysis to be performed.\n",
    "\n",
    "- Change [Amount] to [Amount($)]."
   ]
  },
  {
   "cell_type": "code",
   "execution_count": 413,
   "id": "0d4ee217",
   "metadata": {},
   "outputs": [],
   "source": [
    "# Drop the [Founded, What it does, Founders ] column\n",
    "\n",
    "columns_to_drop = ['Founded', 'What_it_does', 'Founders']\n",
    "data_2021.drop(columns=columns_to_drop, inplace=True)"
   ]
  },
  {
   "cell_type": "code",
   "execution_count": 414,
   "id": "0d23c373",
   "metadata": {},
   "outputs": [],
   "source": [
    "#  Create a unique year column\n",
    "\n",
    "data_2021['Year']='2021'"
   ]
  },
  {
   "cell_type": "code",
   "execution_count": 415,
   "id": "a46c0fef",
   "metadata": {},
   "outputs": [
    {
     "data": {
      "text/html": [
       "<div>\n",
       "<style scoped>\n",
       "    .dataframe tbody tr th:only-of-type {\n",
       "        vertical-align: middle;\n",
       "    }\n",
       "\n",
       "    .dataframe tbody tr th {\n",
       "        vertical-align: top;\n",
       "    }\n",
       "\n",
       "    .dataframe thead th {\n",
       "        text-align: right;\n",
       "    }\n",
       "</style>\n",
       "<table border=\"1\" class=\"dataframe\">\n",
       "  <thead>\n",
       "    <tr style=\"text-align: right;\">\n",
       "      <th></th>\n",
       "      <th>Company_Brand</th>\n",
       "      <th>HeadQuarter</th>\n",
       "      <th>Sector</th>\n",
       "      <th>Investor</th>\n",
       "      <th>Amount</th>\n",
       "      <th>Stage</th>\n",
       "      <th>Year</th>\n",
       "    </tr>\n",
       "  </thead>\n",
       "  <tbody>\n",
       "    <tr>\n",
       "      <th>0</th>\n",
       "      <td>Unbox Robotics</td>\n",
       "      <td>Bangalore</td>\n",
       "      <td>AI startup</td>\n",
       "      <td>BEENEXT, Entrepreneur First</td>\n",
       "      <td>$1,200,000</td>\n",
       "      <td>Pre-series A</td>\n",
       "      <td>2021</td>\n",
       "    </tr>\n",
       "    <tr>\n",
       "      <th>1</th>\n",
       "      <td>upGrad</td>\n",
       "      <td>Mumbai</td>\n",
       "      <td>EdTech</td>\n",
       "      <td>Unilazer Ventures, IIFL Asset Management</td>\n",
       "      <td>$120,000,000</td>\n",
       "      <td>None</td>\n",
       "      <td>2021</td>\n",
       "    </tr>\n",
       "    <tr>\n",
       "      <th>2</th>\n",
       "      <td>Lead School</td>\n",
       "      <td>Mumbai</td>\n",
       "      <td>EdTech</td>\n",
       "      <td>GSV Ventures, Westbridge Capital</td>\n",
       "      <td>$30,000,000</td>\n",
       "      <td>Series D</td>\n",
       "      <td>2021</td>\n",
       "    </tr>\n",
       "    <tr>\n",
       "      <th>3</th>\n",
       "      <td>Bizongo</td>\n",
       "      <td>Mumbai</td>\n",
       "      <td>B2B E-commerce</td>\n",
       "      <td>CDC Group, IDG Capital</td>\n",
       "      <td>$51,000,000</td>\n",
       "      <td>Series C</td>\n",
       "      <td>2021</td>\n",
       "    </tr>\n",
       "    <tr>\n",
       "      <th>4</th>\n",
       "      <td>FypMoney</td>\n",
       "      <td>Gurugram</td>\n",
       "      <td>FinTech</td>\n",
       "      <td>Liberatha Kallat, Mukesh Yadav, Dinesh Nagpal</td>\n",
       "      <td>$2,000,000</td>\n",
       "      <td>Seed</td>\n",
       "      <td>2021</td>\n",
       "    </tr>\n",
       "  </tbody>\n",
       "</table>\n",
       "</div>"
      ],
      "text/plain": [
       "    Company_Brand HeadQuarter          Sector  \\\n",
       "0  Unbox Robotics   Bangalore      AI startup   \n",
       "1          upGrad      Mumbai          EdTech   \n",
       "2     Lead School      Mumbai          EdTech   \n",
       "3         Bizongo      Mumbai  B2B E-commerce   \n",
       "4        FypMoney    Gurugram         FinTech   \n",
       "\n",
       "                                        Investor        Amount         Stage  \\\n",
       "0                    BEENEXT, Entrepreneur First    $1,200,000  Pre-series A   \n",
       "1       Unilazer Ventures, IIFL Asset Management  $120,000,000          None   \n",
       "2               GSV Ventures, Westbridge Capital   $30,000,000      Series D   \n",
       "3                         CDC Group, IDG Capital   $51,000,000      Series C   \n",
       "4  Liberatha Kallat, Mukesh Yadav, Dinesh Nagpal    $2,000,000          Seed   \n",
       "\n",
       "   Year  \n",
       "0  2021  \n",
       "1  2021  \n",
       "2  2021  \n",
       "3  2021  \n",
       "4  2021  "
      ]
     },
     "execution_count": 415,
     "metadata": {},
     "output_type": "execute_result"
    }
   ],
   "source": [
    "data_2021.rename(columns={'Amount': 'Amount($)'})\n",
    "\n",
    "data_2021.head()"
   ]
  },
  {
   "attachments": {},
   "cell_type": "markdown",
   "id": "2b5f2751",
   "metadata": {},
   "source": [
    "<b>MERGE THE FOUR (4) DATASETS TO PERFORM THE FINAL CLEANING AND ANALYSIS<b>"
   ]
  },
  {
   "attachments": {},
   "cell_type": "markdown",
   "id": "6cc1e369",
   "metadata": {},
   "source": [
    "The four datasets have been combined into a single dataFrame called df_startup. \n",
    "\n",
    "The individual columns in this new DataFrame will inspected and cleaned. \n",
    "\n",
    "Only six relevant columns are in this new DataFrame, \n",
    "they are Company/Brand,Stage,Amount,Sector,Headquarter and Investor."
   ]
  },
  {
   "cell_type": "code",
   "execution_count": 416,
   "id": "45b3aa0d",
   "metadata": {},
   "outputs": [],
   "source": [
    "df_startup=pd.concat([data_2018,data_2019,data_2020,data_2021],ignore_index=True)\n",
    "\n",
    "pd.set_option('display.max_rows', None)\n",
    "pd.set_option('display.max_columns', None)"
   ]
  },
  {
   "cell_type": "code",
   "execution_count": 417,
   "id": "2228ee77",
   "metadata": {},
   "outputs": [
    {
     "data": {
      "text/html": [
       "<div>\n",
       "<style scoped>\n",
       "    .dataframe tbody tr th:only-of-type {\n",
       "        vertical-align: middle;\n",
       "    }\n",
       "\n",
       "    .dataframe tbody tr th {\n",
       "        vertical-align: top;\n",
       "    }\n",
       "\n",
       "    .dataframe thead th {\n",
       "        text-align: right;\n",
       "    }\n",
       "</style>\n",
       "<table border=\"1\" class=\"dataframe\">\n",
       "  <thead>\n",
       "    <tr style=\"text-align: right;\">\n",
       "      <th></th>\n",
       "      <th>Company_Brand</th>\n",
       "      <th>Stage</th>\n",
       "      <th>Amount($)</th>\n",
       "      <th>Year</th>\n",
       "      <th>Sector</th>\n",
       "      <th>HeadQuarter</th>\n",
       "      <th>Company/Brand</th>\n",
       "      <th>Investor</th>\n",
       "      <th>Amount</th>\n",
       "    </tr>\n",
       "  </thead>\n",
       "  <tbody>\n",
       "    <tr>\n",
       "      <th>0</th>\n",
       "      <td>TheCollegeFever</td>\n",
       "      <td>Seed</td>\n",
       "      <td>250000</td>\n",
       "      <td>2018</td>\n",
       "      <td>Brand Marketing</td>\n",
       "      <td>Bangalore</td>\n",
       "      <td>NaN</td>\n",
       "      <td>NaN</td>\n",
       "      <td>NaN</td>\n",
       "    </tr>\n",
       "    <tr>\n",
       "      <th>1</th>\n",
       "      <td>Happy Cow Dairy</td>\n",
       "      <td>Seed</td>\n",
       "      <td>$2725600000.00</td>\n",
       "      <td>2018</td>\n",
       "      <td>Agriculture</td>\n",
       "      <td>Mumbai</td>\n",
       "      <td>NaN</td>\n",
       "      <td>NaN</td>\n",
       "      <td>NaN</td>\n",
       "    </tr>\n",
       "    <tr>\n",
       "      <th>2</th>\n",
       "      <td>MyLoanCare</td>\n",
       "      <td>Series A</td>\n",
       "      <td>$4429100000.00</td>\n",
       "      <td>2018</td>\n",
       "      <td>Credit</td>\n",
       "      <td>Gurgaon</td>\n",
       "      <td>NaN</td>\n",
       "      <td>NaN</td>\n",
       "      <td>NaN</td>\n",
       "    </tr>\n",
       "    <tr>\n",
       "      <th>3</th>\n",
       "      <td>PayMe India</td>\n",
       "      <td>Angel</td>\n",
       "      <td>2000000</td>\n",
       "      <td>2018</td>\n",
       "      <td>Financial Services</td>\n",
       "      <td>Noida</td>\n",
       "      <td>NaN</td>\n",
       "      <td>NaN</td>\n",
       "      <td>NaN</td>\n",
       "    </tr>\n",
       "    <tr>\n",
       "      <th>4</th>\n",
       "      <td>Eunimart</td>\n",
       "      <td>Seed</td>\n",
       "      <td>—</td>\n",
       "      <td>2018</td>\n",
       "      <td>E-Commerce Platforms</td>\n",
       "      <td>Hyderabad</td>\n",
       "      <td>NaN</td>\n",
       "      <td>NaN</td>\n",
       "      <td>NaN</td>\n",
       "    </tr>\n",
       "  </tbody>\n",
       "</table>\n",
       "</div>"
      ],
      "text/plain": [
       "     Company_Brand     Stage       Amount($)  Year                Sector  \\\n",
       "0  TheCollegeFever      Seed          250000  2018       Brand Marketing   \n",
       "1  Happy Cow Dairy      Seed  $2725600000.00  2018           Agriculture   \n",
       "2       MyLoanCare  Series A  $4429100000.00  2018                Credit   \n",
       "3      PayMe India     Angel         2000000  2018    Financial Services   \n",
       "4         Eunimart      Seed               —  2018  E-Commerce Platforms   \n",
       "\n",
       "  HeadQuarter Company/Brand Investor Amount  \n",
       "0   Bangalore           NaN      NaN    NaN  \n",
       "1      Mumbai           NaN      NaN    NaN  \n",
       "2     Gurgaon           NaN      NaN    NaN  \n",
       "3       Noida           NaN      NaN    NaN  \n",
       "4   Hyderabad           NaN      NaN    NaN  "
      ]
     },
     "execution_count": 417,
     "metadata": {},
     "output_type": "execute_result"
    }
   ],
   "source": [
    "df_startup.head()"
   ]
  },
  {
   "cell_type": "code",
   "execution_count": 418,
   "id": "941a99a9",
   "metadata": {},
   "outputs": [],
   "source": [
    "# Drop the Company/Brand and Amount columns\n",
    "\n",
    "df_startup.drop(['Company/Brand','Amount'], axis=1, inplace=True)\n"
   ]
  },
  {
   "cell_type": "code",
   "execution_count": 419,
   "id": "4e31a3a6",
   "metadata": {},
   "outputs": [
    {
     "data": {
      "text/html": [
       "<div>\n",
       "<style scoped>\n",
       "    .dataframe tbody tr th:only-of-type {\n",
       "        vertical-align: middle;\n",
       "    }\n",
       "\n",
       "    .dataframe tbody tr th {\n",
       "        vertical-align: top;\n",
       "    }\n",
       "\n",
       "    .dataframe thead th {\n",
       "        text-align: right;\n",
       "    }\n",
       "</style>\n",
       "<table border=\"1\" class=\"dataframe\">\n",
       "  <thead>\n",
       "    <tr style=\"text-align: right;\">\n",
       "      <th></th>\n",
       "      <th>Company_Brand</th>\n",
       "      <th>Stage</th>\n",
       "      <th>Amount($)</th>\n",
       "      <th>Year</th>\n",
       "      <th>Sector</th>\n",
       "      <th>HeadQuarter</th>\n",
       "      <th>Investor</th>\n",
       "    </tr>\n",
       "  </thead>\n",
       "  <tbody>\n",
       "    <tr>\n",
       "      <th>0</th>\n",
       "      <td>TheCollegeFever</td>\n",
       "      <td>Seed</td>\n",
       "      <td>250000</td>\n",
       "      <td>2018</td>\n",
       "      <td>Brand Marketing</td>\n",
       "      <td>Bangalore</td>\n",
       "      <td>NaN</td>\n",
       "    </tr>\n",
       "    <tr>\n",
       "      <th>1</th>\n",
       "      <td>Happy Cow Dairy</td>\n",
       "      <td>Seed</td>\n",
       "      <td>$2725600000.00</td>\n",
       "      <td>2018</td>\n",
       "      <td>Agriculture</td>\n",
       "      <td>Mumbai</td>\n",
       "      <td>NaN</td>\n",
       "    </tr>\n",
       "    <tr>\n",
       "      <th>2</th>\n",
       "      <td>MyLoanCare</td>\n",
       "      <td>Series A</td>\n",
       "      <td>$4429100000.00</td>\n",
       "      <td>2018</td>\n",
       "      <td>Credit</td>\n",
       "      <td>Gurgaon</td>\n",
       "      <td>NaN</td>\n",
       "    </tr>\n",
       "    <tr>\n",
       "      <th>3</th>\n",
       "      <td>PayMe India</td>\n",
       "      <td>Angel</td>\n",
       "      <td>2000000</td>\n",
       "      <td>2018</td>\n",
       "      <td>Financial Services</td>\n",
       "      <td>Noida</td>\n",
       "      <td>NaN</td>\n",
       "    </tr>\n",
       "    <tr>\n",
       "      <th>4</th>\n",
       "      <td>Eunimart</td>\n",
       "      <td>Seed</td>\n",
       "      <td>—</td>\n",
       "      <td>2018</td>\n",
       "      <td>E-Commerce Platforms</td>\n",
       "      <td>Hyderabad</td>\n",
       "      <td>NaN</td>\n",
       "    </tr>\n",
       "  </tbody>\n",
       "</table>\n",
       "</div>"
      ],
      "text/plain": [
       "     Company_Brand     Stage       Amount($)  Year                Sector  \\\n",
       "0  TheCollegeFever      Seed          250000  2018       Brand Marketing   \n",
       "1  Happy Cow Dairy      Seed  $2725600000.00  2018           Agriculture   \n",
       "2       MyLoanCare  Series A  $4429100000.00  2018                Credit   \n",
       "3      PayMe India     Angel         2000000  2018    Financial Services   \n",
       "4         Eunimart      Seed               —  2018  E-Commerce Platforms   \n",
       "\n",
       "  HeadQuarter Investor  \n",
       "0   Bangalore      NaN  \n",
       "1      Mumbai      NaN  \n",
       "2     Gurgaon      NaN  \n",
       "3       Noida      NaN  \n",
       "4   Hyderabad      NaN  "
      ]
     },
     "execution_count": 419,
     "metadata": {},
     "output_type": "execute_result"
    }
   ],
   "source": [
    "df_startup.head()"
   ]
  },
  {
   "attachments": {},
   "cell_type": "markdown",
   "id": "c428809e",
   "metadata": {},
   "source": [
    "<b>WE PERFORM A DETAILED COLUMN BY COLUMN CLEANING OF THE NEW DATAFRAME df_startup<b>"
   ]
  },
  {
   "attachments": {},
   "cell_type": "markdown",
   "id": "55ec5c9a",
   "metadata": {},
   "source": [
    "<h>ISSUES IDENTIFIED WITH THE NEW DATAFRAME THAT NEEDS TO BE ADDRESSED<h>\n",
    "\n",
    "\n",
    "-The new DataFrame df_startup has 33 duplicate entries.\n",
    "\n",
    "-The Amount column is presented in an object datatype this has to be transformed into a float.\n",
    "\n",
    "-The year column is an object data type this has to be changed to a datetime data type.\n",
    "\n",
    "-In the Stage column some of the stages are spelt slighty differently, these need to be harmonised and made consistent.\n",
    "\n",
    "-In the Sector column, same sectors are spelt differently for different companies."
   ]
  },
  {
   "cell_type": "code",
   "execution_count": 420,
   "id": "c071e73f",
   "metadata": {},
   "outputs": [
    {
     "data": {
      "text/plain": [
       "False    2846\n",
       "True       33\n",
       "dtype: int64"
      ]
     },
     "execution_count": 420,
     "metadata": {},
     "output_type": "execute_result"
    }
   ],
   "source": [
    "# CHECK FOR DUPLICATES\n",
    "\n",
    "df_startup.duplicated().value_counts()"
   ]
  },
  {
   "cell_type": "code",
   "execution_count": 421,
   "id": "38fb7a77",
   "metadata": {},
   "outputs": [],
   "source": [
    "# DROP THE DUPLICATES ENTRIES WHILST MAINTAINING THE INTEGRITY OF THE ORIGINAL DATAFRAME\n",
    "\n",
    "df_startup.drop_duplicates(keep='first', inplace=True)"
   ]
  },
  {
   "cell_type": "code",
   "execution_count": 422,
   "id": "32d5339e",
   "metadata": {},
   "outputs": [
    {
     "name": "stdout",
     "output_type": "stream",
     "text": [
      "<class 'pandas.core.frame.DataFrame'>\n",
      "Int64Index: 2846 entries, 0 to 2878\n",
      "Data columns (total 7 columns):\n",
      " #   Column         Non-Null Count  Dtype \n",
      "---  ------         --------------  ----- \n",
      " 0   Company_Brand  2757 non-null   object\n",
      " 1   Stage          1922 non-null   object\n",
      " 2   Amount($)      614 non-null    object\n",
      " 3   Year           2846 non-null   object\n",
      " 4   Sector         2828 non-null   object\n",
      " 5   HeadQuarter    2732 non-null   object\n",
      " 6   Investor       2222 non-null   object\n",
      "dtypes: object(7)\n",
      "memory usage: 177.9+ KB\n"
     ]
    }
   ],
   "source": [
    "df_startup.info()"
   ]
  },
  {
   "cell_type": "code",
   "execution_count": 423,
   "id": "b7a7c450",
   "metadata": {},
   "outputs": [],
   "source": [
    "# Convert the Amount column from Object data type to Float data type.\n",
    "\n",
    "df_startup['Amount($)'] = df_startup['Amount($)'].str.replace('$', '').str.replace(',', '').replace(['—', 'Undisclosed','Undiclosed','Undiclsosed','Undislosed'], np.nan).astype(float)"
   ]
  },
  {
   "cell_type": "code",
   "execution_count": 424,
   "id": "716a7219",
   "metadata": {},
   "outputs": [],
   "source": [
    "# Convert the year from Object to its appriopriate data type\n",
    "df_startup['Year']=pd.to_datetime(df_startup.Year)\n"
   ]
  },
  {
   "cell_type": "code",
   "execution_count": 425,
   "id": "32a1b92d",
   "metadata": {},
   "outputs": [],
   "source": [
    "# Convert Year from DateTime to Year\n",
    "\n",
    "df_startup['Year'] = df_startup['Year'].dt.year"
   ]
  },
  {
   "attachments": {},
   "cell_type": "markdown",
   "id": "311a4dd6",
   "metadata": {},
   "source": [
    "CLEAN THE HEADQUARTER COLUMN"
   ]
  },
  {
   "attachments": {},
   "cell_type": "markdown",
   "id": "9f3bb778",
   "metadata": {},
   "source": [
    "A couple of the entires were not fit for purpose. Some of the entries represented countries and cities not in India. India was also represented as a location instead of its cities. All these problematic entries have been dropped to alighn the entries to only the cities located in India."
   ]
  },
  {
   "cell_type": "code",
   "execution_count": 426,
   "id": "d83fc647",
   "metadata": {},
   "outputs": [],
   "source": [
    "# Drop the entries that are not relevant to the analysis to come.\n",
    "\n",
    "df_startup.drop([12,42,706,781,791,801,838,840,844,845,847,855,875,876,877,879,880,888,889,894,897,902,907,915,916,918,921,932,984,988,999,1001,1003,1005,1006,1012,1014,1015,1028,1035,1071,1072,1073,1074,1098,1702,1713,1911,1912,1927,2571,2590,2770,2843,2846], inplace=True)"
   ]
  },
  {
   "cell_type": "code",
   "execution_count": 427,
   "id": "f66b768b",
   "metadata": {},
   "outputs": [],
   "source": [
    "df_startup.drop([199,854,860,1768,2422],inplace=True)"
   ]
  },
  {
   "cell_type": "code",
   "execution_count": 428,
   "id": "52e73a78",
   "metadata": {},
   "outputs": [],
   "source": [
    "df_startup.replace(to_replace=['Bangalore City','Bangalore','Banglore'], value='Bengaluru', inplace=True)\n",
    "df_startup.replace(to_replace=['Jaipur, Rajastan','Rajasthan'], value='Jaipur', inplace=True)\n",
    "df_startup.replace(to_replace=['Dehli'], value='New Dehli', inplace=True)\n",
    "df_startup.replace(to_replace=['Tamil Nadu','Tirunelveli, Tamilnadu','The Nilgiris'], value='Chennai', inplace=True)\n",
    "df_startup.replace(to_replace=['Samastipur, Bihar'], value='Samastipur', inplace=True)\n",
    "df_startup.replace(to_replace=['Tumkur, Karnataka'], value='Tumkur', inplace=True)\n",
    "df_startup.replace(to_replace=['Faridabad, Haryana','Dhingsara, Haryana'], value='Faridabad', inplace=True)\n",
    "df_startup.replace(to_replace=['West Bengal'], value='Kolkata', inplace=True)\n",
    "df_startup.replace(to_replace=['Uttar pradesh','Uttar Pradesh'], value='Lucknow', inplace=True)"
   ]
  },
  {
   "cell_type": "code",
   "execution_count": 429,
   "id": "40d55b10",
   "metadata": {},
   "outputs": [
    {
     "data": {
      "text/plain": [
       "array(['Bengaluru', 'Mumbai', 'Gurgaon', 'Noida', 'Hyderabad', 'Kalkaji',\n",
       "       'Delhi', 'Hubli', 'New Delhi', 'Chennai', 'Mohali', 'Kolkata',\n",
       "       'Pune', 'Jodhpur', 'Kanpur', 'India', 'Ahmedabad', 'Azadpur',\n",
       "       'Haryana', 'Cochin', 'Faridabad', 'Jaipur', 'Kota', 'Anand',\n",
       "       'Belgaum', 'Thane', 'Margão', 'Indore', 'Alwar', 'Kannur',\n",
       "       'Trivandrum', 'Ernakulam', 'Kormangala', 'Lucknow', 'Andheri',\n",
       "       'Mylapore', 'Ghaziabad', 'Kochi', 'Powai', 'Guntur', 'Kalpakkam',\n",
       "       'Bhopal', 'Coimbatore', 'Worli', 'Alleppey', 'Chandigarh',\n",
       "       'Guindy', nan, 'Telangana', 'Gurugram', 'Surat', None, 'Gujarat',\n",
       "       'Kerala', 'Patna', 'Samastipur', 'Tumkur', 'Rajastan', 'Ludhiana',\n",
       "       'Dehradun', 'Warangal', 'Hyderebad', 'Odisha', 'Bihar', 'Goa',\n",
       "       'Ahmadabad', 'Rajsamand', 'Ranchi', 'Vadodara', 'Nagpur',\n",
       "       'Samsitpur', 'Silvassa', 'Thiruvananthapuram', 'Roorkee',\n",
       "       'Ambernath', 'Panchkula', 'Mangalore', 'Telugana', 'Bhubaneswar',\n",
       "       'Kottayam', 'Panaji', 'Satara', 'Orissia', 'Santra', 'Jharkhand',\n",
       "       'Bhilwara', 'Guwahati', 'Gandhinagar'], dtype=object)"
      ]
     },
     "execution_count": 429,
     "metadata": {},
     "output_type": "execute_result"
    }
   ],
   "source": [
    "df_startup['HeadQuarter'].unique()"
   ]
  },
  {
   "cell_type": "code",
   "execution_count": 430,
   "id": "1624f830",
   "metadata": {},
   "outputs": [
    {
     "data": {
      "text/plain": [
       "Bengaluru             916\n",
       "Mumbai                467\n",
       "Gurugram              238\n",
       "New Delhi             229\n",
       "Chennai               109\n",
       "Pune                  104\n",
       "Delhi                  88\n",
       "Noida                  86\n",
       "Gurgaon                80\n",
       "Hyderabad              76\n",
       "Jaipur                 32\n",
       "Ahmedabad              28\n",
       "Haryana                25\n",
       "Kolkata                23\n",
       "Thane                  14\n",
       "Indore                 14\n",
       "Chandigarh             10\n",
       "Gujarat                 8\n",
       "Kochi                   8\n",
       "Lucknow                 7\n",
       "Ahmadabad               6\n",
       "Jodhpur                 5\n",
       "Coimbatore              5\n",
       "Ghaziabad               4\n",
       "Andheri                 4\n",
       "Goa                     4\n",
       "Faridabad               4\n",
       "Cochin                  4\n",
       "Kanpur                  3\n",
       "Surat                   3\n",
       "Bhopal                  3\n",
       "Kormangala              3\n",
       "Kerala                  3\n",
       "Belgaum                 2\n",
       "Patna                   2\n",
       "Powai                   2\n",
       "Trivandrum              2\n",
       "Telangana               2\n",
       "Mohali                  2\n",
       "Silvassa                1\n",
       "Samsitpur               1\n",
       "Nagpur                  1\n",
       "Vadodara                1\n",
       "Bhilwara                1\n",
       "Ranchi                  1\n",
       "Rajsamand               1\n",
       "Guwahati                1\n",
       "Panaji                  1\n",
       "Thiruvananthapuram      1\n",
       "Roorkee                 1\n",
       "Santra                  1\n",
       "Ambernath               1\n",
       "Panchkula               1\n",
       "Mangalore               1\n",
       "Orissia                 1\n",
       "Satara                  1\n",
       "Telugana                1\n",
       "Bihar                   1\n",
       "Bhubaneswar             1\n",
       "Kottayam                1\n",
       "Jharkhand               1\n",
       "Worli                   1\n",
       "Odisha                  1\n",
       "Hyderebad               1\n",
       "Kalkaji                 1\n",
       "Hubli                   1\n",
       "India                   1\n",
       "Azadpur                 1\n",
       "Kota                    1\n",
       "Anand                   1\n",
       "Margão                  1\n",
       "Alwar                   1\n",
       "Kannur                  1\n",
       "Ernakulam               1\n",
       "Mylapore                1\n",
       "Guntur                  1\n",
       "Kalpakkam               1\n",
       "Alleppey                1\n",
       "Guindy                  1\n",
       "Samastipur              1\n",
       "Tumkur                  1\n",
       "Rajastan                1\n",
       "Ludhiana                1\n",
       "Dehradun                1\n",
       "Warangal                1\n",
       "Gandhinagar             1\n",
       "Name: HeadQuarter, dtype: int64"
      ]
     },
     "execution_count": 430,
     "metadata": {},
     "output_type": "execute_result"
    }
   ],
   "source": [
    "df_startup['HeadQuarter'].value_counts()"
   ]
  },
  {
   "attachments": {},
   "cell_type": "markdown",
   "id": "7b7d65fc",
   "metadata": {},
   "source": [
    "HARMONIZING THE INDUSTRY NAME IN THE SECTOR COLUMN"
   ]
  },
  {
   "cell_type": "code",
   "execution_count": 431,
   "id": "962f4159",
   "metadata": {},
   "outputs": [],
   "source": [
    "df_startup.replace(to_replace=['Fintech'], value='FinTech', inplace=True)\n",
    "df_startup.replace(to_replace=['EdTech Startup','Edtech','EdtTech'], value='EdTech', inplace=True)\n",
    "df_startup.replace(to_replace=['Insurance','Banking','Credit','Consumer Lending','Accounting','Finance company','Finance','Capital Markets','Venture Capital & Private Equity','Venture capital',], value='Financial Services', inplace=True)\n",
    "df_startup.replace(to_replace=['E-Commerce','Ecommerce','Social e-commerce','E-marketplace'], value='E-commerce', inplace=True)\n",
    "df_startup.replace(to_replace=['Automotive & Rentals','Automobiles'], value='Automotive', inplace=True)\n",
    "df_startup.replace(to_replace=['Agritech','B2B Agritech'], value='AgriTech', inplace=True)\n",
    "df_startup.replace(to_replace=['Food and Beverage','Beverages','Beverage'], value='Food & Beverages', inplace=True)\n",
    "df_startup.replace(to_replace=['Logistics & Supply Chain'], value='Logistics', inplace=True)\n",
    "df_startup.replace(to_replace=['Information Technology & Services','Tech','Internet','IT'], value='Information Technology', inplace=True)\n",
    "df_startup.replace(to_replace=['Gaming startup','Computer Games'], value='Gaming', inplace=True)\n",
    "df_startup.replace(to_replace=['HealthCare','Health Care','Health,Wellness & Fitness','Fitness','Hospital & Health Care','Health','Fitness startup','Health Care','Yoga & wellness','Health & Wellness','Helath care','Healthcare','Health Diagnostics','Heathcare'], value='Healthcare', inplace=True)\n",
    "df_startup.replace(to_replace=['HealthTech'], value='Healthtech', inplace=True)\n",
    "df_startup.replace(to_replace=['SaaS startup','SaaS platform'], value='SaaS', inplace=True)\n",
    "df_startup.replace(to_replace=['FMCG'], value='Consumer Goods', inplace=True)\n",
    "df_startup.replace(to_replace=['Online Media'], value='Media', inplace=True)\n",
    "df_startup.replace(to_replace=['Retail startup','Consumer'], value='Retail', inplace=True)\n",
    "df_startup.replace(to_replace=['Apps','Tech Company','Technology','Information Services','Tech startup'], value='Tech Startup', inplace=True)\n",
    "df_startup.replace(to_replace=['AI','Artificial Intelligence','AI Company','AI startup'], value='AI Startup', inplace=True)\n",
    "df_startup.replace(to_replace=['Computer softwre','Software','Computer','Software Startup','Software Startup'], value='Computer Software', inplace=True)\n",
    "df_startup.replace(to_replace=['Apparel & Fashion','Fashion startup'], value='Fashion', inplace=True)\n",
    "df_startup.replace(to_replace=['B2B Service','B2B marketplace','B2B Ecommerce','B2B E-commerce','B2B startup','B2B service'], value='B2B', inplace=True)\n",
    "df_startup.replace(to_replace=['Food','Foodtech','Food tech'], value='FoodTech', inplace=True)\n",
    "df_startup.replace(to_replace=['Internet of Things'], value='IoT', inplace=True)\n",
    "df_startup.replace(to_replace=['Farming'], value='Agriculture', inplace=True)\n",
    "df_startup.replace(to_replace=['Deeptech'], value='DeepTech', inplace=True)\n",
    "df_startup.replace(to_replace=['Insuretech','Insurance technology'], value='InsureTech', inplace=True)\n",
    "df_startup.replace(to_replace=['Rental space'], value='Rental', inplace=True)\n",
    "df_startup.replace(to_replace=['Food Delivery','Delivery Service'], value='Delivery', inplace=True)\n",
    "df_startup.replace(to_replace=['Marketing & Advertising','Brand Marketing','Market Research','Marketing startup'], value='Marketing', inplace=True)\n",
    "df_startup.replace(to_replace=['Biotechnology'], value='BioTechnology', inplace=True)\n",
    "df_startup.replace(to_replace=['Cleantech'], value='CleanTech', inplace=True)\n",
    "df_startup.replace(to_replace=['Crypto'], value='Cryptocurrency', inplace=True)\n",
    "df_startup.replace(to_replace=['Interior design'], value='Interior Design', inplace=True)"
   ]
  },
  {
   "attachments": {},
   "cell_type": "markdown",
   "id": "16be8a9f",
   "metadata": {},
   "source": [
    "STAGE COLUMN- Harmonise the various stages of investment attained by the various startups."
   ]
  },
  {
   "cell_type": "code",
   "execution_count": 432,
   "id": "c8f28dec",
   "metadata": {},
   "outputs": [],
   "source": [
    "df_startup.replace(to_replace=['Seed round','Seed funding','Early seed','Seed fund','Seed Investment','Seed Round','Seed+','Seed Funding','Pre series A','Pre-series A','Pre- Series A','Seed Funding','Seed Round & Series A','Pre series A1','Funding Round'], value='Seed', inplace=True)\n",
    "df_startup.replace(to_replace=['Debt Financing','Post-IPO Debt','Bridge','Bridge Round'], value='Debt', inplace=True)\n",
    "df_startup.replace(to_replace=['Venture - Series Unknown','NaN','None'], value='Undisclosed', inplace=True)\n",
    "df_startup.replace(to_replace=['Angel Round','Pre seed round', 'Pre Seed','Pre-seed Round','Grant'], value='Angel', inplace=True)\n",
    "df_startup.replace(to_replace=['Pre-Series B','Pre-series B'], value='Pre series B', inplace=True)\n",
    "df_startup.replace(to_replace=['Seis A','Series A-1','Pre series A','Series A+','Pre-series A','Series I'], value='Series A', inplace=True)\n",
    "df_startup.replace(to_replace=['Post series A','Series B7','Pre-series C','Series B2','Pre series B'], value='Series B', inplace=True)\n",
    "df_startup.replace(to_replace=['Corporate Round','Post-IPO Equity','Secondary Market'], value='Private Equity', inplace=True)\n",
    "df_startup.replace(to_replace=['Series C,D'], value='Series D', inplace=True)\n",
    "df_startup.replace(to_replace=['Series F2','Series F1'], value='Series F', inplace=True)\n",
    "df_startup.replace(to_replace=['Series D'], value='Series D1', inplace=True)"
   ]
  },
  {
   "attachments": {},
   "cell_type": "markdown",
   "id": "13bfd5f1",
   "metadata": {},
   "source": [
    "<b>RESEARCH QUESTIONS<b>"
   ]
  },
  {
   "attachments": {},
   "cell_type": "markdown",
   "id": "b6708e82",
   "metadata": {},
   "source": [
    "1. Which Sector received the highest Funds in each year.\n",
    "\n",
    "2. Which investor provided the most funding each year.\n",
    "\n",
    "3. Which Company received least and more Funds in each year (2018-2021)\n",
    "\n",
    "4. What is the funding thrend in the Indian StartUp Ecosystem?\n",
    "\n",
    "5. Which location has received the most funding over the period under review?"
   ]
  },
  {
   "attachments": {},
   "cell_type": "markdown",
   "id": "d5e38165",
   "metadata": {},
   "source": [
    "QUESTION 1\n",
    "\n",
    "Which Sector received the highest Funds in each year."
   ]
  },
  {
   "cell_type": "code",
   "execution_count": 433,
   "id": "11359979",
   "metadata": {},
   "outputs": [
    {
     "name": "stdout",
     "output_type": "stream",
     "text": [
      "2018: Financial Services\n",
      "2019: EdTech\n",
      "2020: AI & Data science\n",
      "2021: AI Startup\n"
     ]
    }
   ],
   "source": [
    "funding_by_year_sector = df_startup.groupby(['Year','Sector'])['Amount($)'].sum()\n",
    "\n",
    "funding_by_year_sector = funding_by_year_sector.groupby('Year').idxmax()\n",
    "\n",
    "for year, sector in funding_by_year_sector.items():\n",
    "   print(f\"{year}: {sector[1]}\")"
   ]
  },
  {
   "attachments": {},
   "cell_type": "markdown",
   "id": "2cc05d56",
   "metadata": {},
   "source": [
    "VISUALISATION"
   ]
  },
  {
   "cell_type": "code",
   "execution_count": 434,
   "id": "7bb5c25a",
   "metadata": {},
   "outputs": [
    {
     "ename": "ValueError",
     "evalue": "Could not interpret input 'Sector'",
     "output_type": "error",
     "traceback": [
      "\u001b[1;31m---------------------------------------------------------------------------\u001b[0m",
      "\u001b[1;31mValueError\u001b[0m                                Traceback (most recent call last)",
      "Cell \u001b[1;32mIn[434], line 3\u001b[0m\n\u001b[0;32m      1\u001b[0m \u001b[39m# Create a bar plot\u001b[39;00m\n\u001b[0;32m      2\u001b[0m plt\u001b[39m.\u001b[39mfigure(figsize\u001b[39m=\u001b[39m(\u001b[39m10\u001b[39m, \u001b[39m6\u001b[39m))\n\u001b[1;32m----> 3\u001b[0m sns\u001b[39m.\u001b[39;49mbarplot(x\u001b[39m=\u001b[39;49m\u001b[39m'\u001b[39;49m\u001b[39mSector\u001b[39;49m\u001b[39m'\u001b[39;49m, y\u001b[39m=\u001b[39;49m\u001b[39m'\u001b[39;49m\u001b[39mYear\u001b[39;49m\u001b[39m'\u001b[39;49m, data\u001b[39m=\u001b[39;49mfunding_by_year_sector\u001b[39m.\u001b[39;49mreset_index())\n\u001b[0;32m      4\u001b[0m plt\u001b[39m.\u001b[39mtitle(\u001b[39m'\u001b[39m\u001b[39mSector with Highest Funding Each Year\u001b[39m\u001b[39m'\u001b[39m)\n\u001b[0;32m      5\u001b[0m plt\u001b[39m.\u001b[39mxlabel(\u001b[39m'\u001b[39m\u001b[39mYear\u001b[39m\u001b[39m'\u001b[39m)\n",
      "File \u001b[1;32mc:\\Users\\User\\AppData\\Local\\Programs\\Python\\Python311\\Lib\\site-packages\\seaborn\\categorical.py:2755\u001b[0m, in \u001b[0;36mbarplot\u001b[1;34m(data, x, y, hue, order, hue_order, estimator, errorbar, n_boot, units, seed, orient, color, palette, saturation, width, errcolor, errwidth, capsize, dodge, ci, ax, **kwargs)\u001b[0m\n\u001b[0;32m   2752\u001b[0m \u001b[39mif\u001b[39;00m estimator \u001b[39mis\u001b[39;00m \u001b[39mlen\u001b[39m:\n\u001b[0;32m   2753\u001b[0m     estimator \u001b[39m=\u001b[39m \u001b[39m\"\u001b[39m\u001b[39msize\u001b[39m\u001b[39m\"\u001b[39m\n\u001b[1;32m-> 2755\u001b[0m plotter \u001b[39m=\u001b[39m _BarPlotter(x, y, hue, data, order, hue_order,\n\u001b[0;32m   2756\u001b[0m                       estimator, errorbar, n_boot, units, seed,\n\u001b[0;32m   2757\u001b[0m                       orient, color, palette, saturation,\n\u001b[0;32m   2758\u001b[0m                       width, errcolor, errwidth, capsize, dodge)\n\u001b[0;32m   2760\u001b[0m \u001b[39mif\u001b[39;00m ax \u001b[39mis\u001b[39;00m \u001b[39mNone\u001b[39;00m:\n\u001b[0;32m   2761\u001b[0m     ax \u001b[39m=\u001b[39m plt\u001b[39m.\u001b[39mgca()\n",
      "File \u001b[1;32mc:\\Users\\User\\AppData\\Local\\Programs\\Python\\Python311\\Lib\\site-packages\\seaborn\\categorical.py:1530\u001b[0m, in \u001b[0;36m_BarPlotter.__init__\u001b[1;34m(self, x, y, hue, data, order, hue_order, estimator, errorbar, n_boot, units, seed, orient, color, palette, saturation, width, errcolor, errwidth, capsize, dodge)\u001b[0m\n\u001b[0;32m   1525\u001b[0m \u001b[39mdef\u001b[39;00m \u001b[39m__init__\u001b[39m(\u001b[39mself\u001b[39m, x, y, hue, data, order, hue_order,\n\u001b[0;32m   1526\u001b[0m              estimator, errorbar, n_boot, units, seed,\n\u001b[0;32m   1527\u001b[0m              orient, color, palette, saturation, width,\n\u001b[0;32m   1528\u001b[0m              errcolor, errwidth, capsize, dodge):\n\u001b[0;32m   1529\u001b[0m \u001b[39m    \u001b[39m\u001b[39m\"\"\"Initialize the plotter.\"\"\"\u001b[39;00m\n\u001b[1;32m-> 1530\u001b[0m     \u001b[39mself\u001b[39;49m\u001b[39m.\u001b[39;49mestablish_variables(x, y, hue, data, orient,\n\u001b[0;32m   1531\u001b[0m                              order, hue_order, units)\n\u001b[0;32m   1532\u001b[0m     \u001b[39mself\u001b[39m\u001b[39m.\u001b[39mestablish_colors(color, palette, saturation)\n\u001b[0;32m   1533\u001b[0m     \u001b[39mself\u001b[39m\u001b[39m.\u001b[39mestimate_statistic(estimator, errorbar, n_boot, seed)\n",
      "File \u001b[1;32mc:\\Users\\User\\AppData\\Local\\Programs\\Python\\Python311\\Lib\\site-packages\\seaborn\\categorical.py:541\u001b[0m, in \u001b[0;36m_CategoricalPlotter.establish_variables\u001b[1;34m(self, x, y, hue, data, orient, order, hue_order, units)\u001b[0m\n\u001b[0;32m    539\u001b[0m     \u001b[39mif\u001b[39;00m \u001b[39misinstance\u001b[39m(var, \u001b[39mstr\u001b[39m):\n\u001b[0;32m    540\u001b[0m         err \u001b[39m=\u001b[39m \u001b[39mf\u001b[39m\u001b[39m\"\u001b[39m\u001b[39mCould not interpret input \u001b[39m\u001b[39m'\u001b[39m\u001b[39m{\u001b[39;00mvar\u001b[39m}\u001b[39;00m\u001b[39m'\u001b[39m\u001b[39m\"\u001b[39m\n\u001b[1;32m--> 541\u001b[0m         \u001b[39mraise\u001b[39;00m \u001b[39mValueError\u001b[39;00m(err)\n\u001b[0;32m    543\u001b[0m \u001b[39m# Figure out the plotting orientation\u001b[39;00m\n\u001b[0;32m    544\u001b[0m orient \u001b[39m=\u001b[39m infer_orient(\n\u001b[0;32m    545\u001b[0m     x, y, orient, require_numeric\u001b[39m=\u001b[39m\u001b[39mself\u001b[39m\u001b[39m.\u001b[39mrequire_numeric\n\u001b[0;32m    546\u001b[0m )\n",
      "\u001b[1;31mValueError\u001b[0m: Could not interpret input 'Sector'"
     ]
    },
    {
     "data": {
      "text/plain": [
       "<Figure size 1000x600 with 0 Axes>"
      ]
     },
     "metadata": {},
     "output_type": "display_data"
    }
   ],
   "source": [
    "# Create a bar plot\n",
    "plt.figure(figsize=(10, 6))\n",
    "sns.barplot(x='Sector', y='Year', data=funding_by_year_sector.reset_index())\n",
    "plt.title('Sector with Highest Funding Each Year')\n",
    "plt.xlabel('Year')\n",
    "plt.ylabel('Amount($)')\n",
    "plt.show()\n"
   ]
  },
  {
   "attachments": {},
   "cell_type": "markdown",
   "id": "e39f9f8a",
   "metadata": {},
   "source": [
    "QUESTION 2\n",
    "\n",
    "Who are the top three investors?"
   ]
  },
  {
   "cell_type": "code",
   "execution_count": null,
   "id": "6196b6b3",
   "metadata": {},
   "outputs": [
    {
     "data": {
      "text/html": [
       "<div>\n",
       "<style scoped>\n",
       "    .dataframe tbody tr th:only-of-type {\n",
       "        vertical-align: middle;\n",
       "    }\n",
       "\n",
       "    .dataframe tbody tr th {\n",
       "        vertical-align: top;\n",
       "    }\n",
       "\n",
       "    .dataframe thead th {\n",
       "        text-align: right;\n",
       "    }\n",
       "</style>\n",
       "<table border=\"1\" class=\"dataframe\">\n",
       "  <thead>\n",
       "    <tr style=\"text-align: right;\">\n",
       "      <th></th>\n",
       "      <th>Investor</th>\n",
       "      <th>Amount($)</th>\n",
       "    </tr>\n",
       "  </thead>\n",
       "  <tbody>\n",
       "    <tr>\n",
       "      <th>1007</th>\n",
       "      <td>MyPreferred Transformation, Avendus Finance, S...</td>\n",
       "      <td>$693,000,000.00</td>\n",
       "    </tr>\n",
       "    <tr>\n",
       "      <th>1406</th>\n",
       "      <td>South Africa’s Naspers Ventures, the CPP Inves...</td>\n",
       "      <td>$540,000,000.00</td>\n",
       "    </tr>\n",
       "    <tr>\n",
       "      <th>817</th>\n",
       "      <td>Kia Motors, Hyundai</td>\n",
       "      <td>$311,000,000.00</td>\n",
       "    </tr>\n",
       "  </tbody>\n",
       "</table>\n",
       "</div>"
      ],
      "text/plain": [
       "                                               Investor        Amount($)\n",
       "1007  MyPreferred Transformation, Avendus Finance, S...  $693,000,000.00\n",
       "1406  South Africa’s Naspers Ventures, the CPP Inves...  $540,000,000.00\n",
       "817                                 Kia Motors, Hyundai  $311,000,000.00"
      ]
     },
     "execution_count": 374,
     "metadata": {},
     "output_type": "execute_result"
    }
   ],
   "source": [
    "funding_by_investor = df_startup.groupby(['Investor'])['Amount($)'].sum().reset_index()\n",
    "sorted_funding_by_investor = funding_by_investor.sort_values(by='Amount($)', ascending=False)\n",
    "top_investors = sorted_funding_by_investor.head(3)\n",
    "top_investors['Amount($)'] = top_investors['Amount($)'].apply(lambda x: '${:,.2f}'.format(x))\n",
    "top_investors"
   ]
  },
  {
   "attachments": {},
   "cell_type": "markdown",
   "id": "1e8df359",
   "metadata": {},
   "source": [
    "VISUALISATION"
   ]
  },
  {
   "cell_type": "code",
   "execution_count": null,
   "id": "b2ca28bd",
   "metadata": {},
   "outputs": [],
   "source": []
  },
  {
   "attachments": {},
   "cell_type": "markdown",
   "id": "c80ec87d",
   "metadata": {},
   "source": [
    "QUESTION 3"
   ]
  },
  {
   "attachments": {},
   "cell_type": "markdown",
   "id": "55e77fc9",
   "metadata": {},
   "source": [
    "What is the funding thrend of the Indian StartUp Ecosystem."
   ]
  },
  {
   "cell_type": "code",
   "execution_count": null,
   "id": "6e1e4b05",
   "metadata": {},
   "outputs": [
    {
     "data": {
      "text/html": [
       "<div>\n",
       "<style scoped>\n",
       "    .dataframe tbody tr th:only-of-type {\n",
       "        vertical-align: middle;\n",
       "    }\n",
       "\n",
       "    .dataframe tbody tr th {\n",
       "        vertical-align: top;\n",
       "    }\n",
       "\n",
       "    .dataframe thead th {\n",
       "        text-align: right;\n",
       "    }\n",
       "</style>\n",
       "<table border=\"1\" class=\"dataframe\">\n",
       "  <thead>\n",
       "    <tr style=\"text-align: right;\">\n",
       "      <th></th>\n",
       "      <th>Year</th>\n",
       "      <th>Amount($)</th>\n",
       "    </tr>\n",
       "  </thead>\n",
       "  <tbody>\n",
       "    <tr>\n",
       "      <th>0</th>\n",
       "      <td>2018</td>\n",
       "      <td>5797635018891.0000</td>\n",
       "    </tr>\n",
       "    <tr>\n",
       "      <th>1</th>\n",
       "      <td>2019</td>\n",
       "      <td>3336433200.0000</td>\n",
       "    </tr>\n",
       "    <tr>\n",
       "      <th>2</th>\n",
       "      <td>2020</td>\n",
       "      <td>0.0000</td>\n",
       "    </tr>\n",
       "    <tr>\n",
       "      <th>3</th>\n",
       "      <td>2021</td>\n",
       "      <td>0.0000</td>\n",
       "    </tr>\n",
       "  </tbody>\n",
       "</table>\n",
       "</div>"
      ],
      "text/plain": [
       "   Year          Amount($)\n",
       "0  2018 5797635018891.0000\n",
       "1  2019    3336433200.0000\n",
       "2  2020             0.0000\n",
       "3  2021             0.0000"
      ]
     },
     "execution_count": 321,
     "metadata": {},
     "output_type": "execute_result"
    }
   ],
   "source": [
    "funding_by_year = df_startup.groupby('Year')['Amount($)'].sum().apply(lambda x: '${:,.2f}'.format(x))\n",
    "df_funding_by_year = pd.DataFrame({'Year': funding_by_year.index, 'Amount($)': funding_by_year.values})\n",
    "df_funding_by_year['Amount($)'] = df_funding_by_year['Amount($)'].apply(lambda x: float(x.replace(',', '').replace('$', '')))\n",
    "df_funding_by_year"
   ]
  },
  {
   "attachments": {},
   "cell_type": "markdown",
   "id": "28b66fa4",
   "metadata": {},
   "source": [
    "VISUALISATION"
   ]
  },
  {
   "cell_type": "code",
   "execution_count": null,
   "id": "87856d64",
   "metadata": {},
   "outputs": [],
   "source": []
  },
  {
   "attachments": {},
   "cell_type": "markdown",
   "id": "99c9a7a0",
   "metadata": {},
   "source": [
    "QUESTION 4"
   ]
  },
  {
   "attachments": {},
   "cell_type": "markdown",
   "id": "a0bbdf57",
   "metadata": {},
   "source": [
    "Which Locaction in India has received the most investments?"
   ]
  },
  {
   "cell_type": "code",
   "execution_count": null,
   "id": "cf20803a",
   "metadata": {},
   "outputs": [
    {
     "data": {
      "text/html": [
       "<div>\n",
       "<style scoped>\n",
       "    .dataframe tbody tr th:only-of-type {\n",
       "        vertical-align: middle;\n",
       "    }\n",
       "\n",
       "    .dataframe tbody tr th {\n",
       "        vertical-align: top;\n",
       "    }\n",
       "\n",
       "    .dataframe thead th {\n",
       "        text-align: right;\n",
       "    }\n",
       "</style>\n",
       "<table border=\"1\" class=\"dataframe\">\n",
       "  <thead>\n",
       "    <tr style=\"text-align: right;\">\n",
       "      <th></th>\n",
       "      <th>HeadQuarter</th>\n",
       "      <th>Total_Raised</th>\n",
       "    </tr>\n",
       "  </thead>\n",
       "  <tbody>\n",
       "    <tr>\n",
       "      <th>78</th>\n",
       "      <td>Mumbai</td>\n",
       "      <td>$1,410,332,828,500.00</td>\n",
       "    </tr>\n",
       "    <tr>\n",
       "      <th>46</th>\n",
       "      <td>Haryana</td>\n",
       "      <td>$1,404,629,480,000.00</td>\n",
       "    </tr>\n",
       "    <tr>\n",
       "      <th>81</th>\n",
       "      <td>New Delhi</td>\n",
       "      <td>$1,033,754,386,000.00</td>\n",
       "    </tr>\n",
       "    <tr>\n",
       "      <th>15</th>\n",
       "      <td>Bengaluru</td>\n",
       "      <td>$581,611,313,846.00</td>\n",
       "    </tr>\n",
       "    <tr>\n",
       "      <th>54</th>\n",
       "      <td>Jaipur</td>\n",
       "      <td>$380,974,925,000.00</td>\n",
       "    </tr>\n",
       "  </tbody>\n",
       "</table>\n",
       "</div>"
      ],
      "text/plain": [
       "   HeadQuarter           Total_Raised\n",
       "78      Mumbai  $1,410,332,828,500.00\n",
       "46     Haryana  $1,404,629,480,000.00\n",
       "81   New Delhi  $1,033,754,386,000.00\n",
       "15   Bengaluru    $581,611,313,846.00\n",
       "54      Jaipur    $380,974,925,000.00"
      ]
     },
     "execution_count": 322,
     "metadata": {},
     "output_type": "execute_result"
    }
   ],
   "source": [
    "funds_by_location = df_startup.groupby(['HeadQuarter'])['Amount($)'].sum().reset_index(name='Total_Raised')\n",
    "funds_by_location = funds_by_location.sort_values(by='Total_Raised', ascending=False).head(5)\n",
    "funds_by_location['Total_Raised'] = funds_by_location['Total_Raised'].apply(lambda x: '${:,.2f}'.format(x))\n",
    "\n",
    "funds_by_location"
   ]
  },
  {
   "attachments": {},
   "cell_type": "markdown",
   "id": "4d030583",
   "metadata": {},
   "source": [
    "VISUALISATION"
   ]
  },
  {
   "cell_type": "code",
   "execution_count": null,
   "id": "c06417b2",
   "metadata": {},
   "outputs": [],
   "source": []
  }
 ],
 "metadata": {
  "kernelspec": {
   "display_name": "Python 3 (ipykernel)",
   "language": "python",
   "name": "python3"
  },
  "language_info": {
   "codemirror_mode": {
    "name": "ipython",
    "version": 3
   },
   "file_extension": ".py",
   "mimetype": "text/x-python",
   "name": "python",
   "nbconvert_exporter": "python",
   "pygments_lexer": "ipython3",
   "version": "3.11.2"
  }
 },
 "nbformat": 4,
 "nbformat_minor": 5
}
